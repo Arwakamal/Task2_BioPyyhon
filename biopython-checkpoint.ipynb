{
 "cells": [
  {
   "cell_type": "code",
   "execution_count": 1,
   "id": "d0a9770b",
   "metadata": {},
   "outputs": [],
   "source": [
    "from pyopenms import*"
   ]
  },
  {
   "cell_type": "code",
   "execution_count": 3,
   "id": "fe286df2",
   "metadata": {},
   "outputs": [
    {
     "data": {
      "text/plain": [
       "387.24817105270006"
      ]
     },
     "execution_count": 3,
     "metadata": {},
     "output_type": "execute_result"
    }
   ],
   "source": [
    "seq=AASequence.fromString(\"VAKA\")\n",
    "m=seq.getMonoWeight()\n",
    "m"
   ]
  },
  {
   "cell_type": "code",
   "execution_count": 4,
   "id": "a0cc3c61",
   "metadata": {},
   "outputs": [
    {
     "name": "stdout",
     "output_type": "stream",
     "text": [
      "The Peptide VAKA consists of the following amino acids:\n",
      "Valine : 117.07897935090001\n",
      "117.07897935090001\n",
      "Alanine : 89.04767922330001\n",
      "206.1266585742\n",
      "Lysine : 146.1055284466\n",
      "352.2321870208\n",
      "Alanine : 89.04767922330001\n",
      "441.2798662441\n"
     ]
    }
   ],
   "source": [
    "print(\"The Peptide\",str(seq),\"consists of the following amino acids:\")\n",
    "sumOfMasses=0\n",
    "for s in seq:\n",
    "    print(s.getName(),\":\",s.getMonoWeight())\n",
    "    sumOfMasses=sumOfMasses+s.getMonoWeight()\n",
    "    print(sumOfMasses)"
   ]
  },
  {
   "cell_type": "code",
   "execution_count": null,
   "id": "068b7927",
   "metadata": {},
   "outputs": [],
   "source": []
  }
 ],
 "metadata": {
  "kernelspec": {
   "display_name": "Python 3 (ipykernel)",
   "language": "python",
   "name": "python3"
  },
  "language_info": {
   "codemirror_mode": {
    "name": "ipython",
    "version": 3
   },
   "file_extension": ".py",
   "mimetype": "text/x-python",
   "name": "python",
   "nbconvert_exporter": "python",
   "pygments_lexer": "ipython3",
   "version": "3.9.7"
  }
 },
 "nbformat": 4,
 "nbformat_minor": 5
}
