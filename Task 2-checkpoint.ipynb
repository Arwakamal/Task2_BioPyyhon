{
 "cells": [
  {
   "cell_type": "code",
   "execution_count": 1,
   "id": "164e3f8a",
   "metadata": {},
   "outputs": [
    {
     "name": "stdout",
     "output_type": "stream",
     "text": [
      "537.2984921016999\n",
      "131.0946294147\n",
      "146.10552844660003\n",
      "149.05105008089998\n",
      "165.0789793509\n",
      "591.3301872930999\n"
     ]
    }
   ],
   "source": [
    "from pyopenms import *\n",
    "symbol1 = AASequence.fromString(\"LKMF\")\n",
    "sum1 = symbol1.getMonoWeight()\n",
    "print (sum1)\n",
    "\n",
    "symbol2 = AASequence.fromString(\"L\")\n",
    "sum2 = symbol2.getMonoWeight()\n",
    "print (sum2)\n",
    "\n",
    "symbol3 = AASequence.fromString(\"K\")\n",
    "sum3 = symbol3.getMonoWeight()\n",
    "print (sum3)\n",
    "\n",
    "symbol4 = AASequence.fromString(\"M\")\n",
    "sum4 = symbol4.getMonoWeight()\n",
    "print (sum4)\n",
    "\n",
    "symbol5 = AASequence.fromString(\"F\")\n",
    "sum5 = symbol5.getMonoWeight()\n",
    "print (sum5)\n",
    "\n",
    "total=sum2+sum3+sum4+sum5\n",
    "print(total)"
   ]
  },
  {
   "cell_type": "code",
   "execution_count": null,
   "id": "9bbac154",
   "metadata": {},
   "outputs": [],
   "source": []
  }
 ],
 "metadata": {
  "kernelspec": {
   "display_name": "Python 3 (ipykernel)",
   "language": "python",
   "name": "python3"
  },
  "language_info": {
   "codemirror_mode": {
    "name": "ipython",
    "version": 3
   },
   "file_extension": ".py",
   "mimetype": "text/x-python",
   "name": "python",
   "nbconvert_exporter": "python",
   "pygments_lexer": "ipython3",
   "version": "3.9.7"
  }
 },
 "nbformat": 4,
 "nbformat_minor": 5
}
